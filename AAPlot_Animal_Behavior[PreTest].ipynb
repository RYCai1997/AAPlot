{
 "cells": [
  {
   "cell_type": "markdown",
   "id": "e2c744f3",
   "metadata": {},
   "source": [
    "# 【AAPlot for Animal Behavior (Pretreat)】\n",
    "## Extract speed and trajectory of EzTrack exported .csv file\n",
    "\n",
    "Run under `PLOT` environment\n",
    "    \n",
    "The `PLOT` enviorment：\n",
    "- Python3.12.7\n",
    "- pandas\n",
    "- numpy\n",
    "- matplotlib\n",
    "- seaborn\n",
    "- ipykernel\n",
    "\n",
    "*Warning*\n",
    "\n",
    "*! Make sure you have installed `Anaconda`，and added to PATH（refering to internet）*\n",
    "\n",
    "*! Make sure you have already confiured the `PLOT` environment, if not, run this command: `conda env create -n PLOT python=3.12.7 pandas numpy matplotlib seaborn ipykernel` (If you are using ARM64 CPU, use Python3.13.3 intead，add `conda-forge` at the end of command)*\n",
    "\n",
    "*Apply `PLOT` in VScode ：Select in the Kernel*\n",
    "\n",
    "*Apply `PLOT` in terminal：`conda activate PLOT`*"
   ]
  },
  {
   "cell_type": "markdown",
   "id": "f5ffdacf",
   "metadata": {},
   "source": [
    "### Data Input"
   ]
  },
  {
   "cell_type": "code",
   "execution_count": 24,
   "id": "b1d3cfb1",
   "metadata": {},
   "outputs": [
    {
     "name": "stdout",
     "output_type": "stream",
     "text": [
      "Data Summary:\n",
      "   Time_seconds  Distance_cm  Speed_cm_s\n",
      "0      0.000000     0.000000    0.000000\n",
      "1      0.033333     0.260823    7.824703\n",
      "2      0.066667     0.457427   13.722812\n",
      "3      0.100000     0.335872   10.076157\n",
      "4      0.133333     0.559040   16.771215\n",
      "\n",
      "Note: All distances in centimeters, time in seconds, speed in cm/s\n"
     ]
    }
   ],
   "source": [
    "import pandas as pd\n",
    "import matplotlib.pyplot as plt\n",
    "import numpy as np\n",
    "from scipy.signal import savgol_filter\n",
    "import os  # Added for file path operations\n",
    "\n",
    "Filename = r'D:\\Temp\\DrugIntake behavior\\THC\\male\\C16_THC_0_1mpk_LocationOutput.csv'  # for Windows\n",
    "# Filename = 'Test.csv' # for Linux/MacOS\n",
    "\n",
    "# Read the CSV file\n",
    "df = pd.read_csv(Filename)\n",
    "\n",
    "# Extract data and convert to appropriate units\n",
    "frame_numbers = df['Frame']\n",
    "time_seconds = frame_numbers / 30  # Convert frames to seconds (30Hz)\n",
    "distance_cm = df['Distance_cm']  # Already in cm\n",
    "\n",
    "# Calculate speed in cm/s (multiply by frame rate since distance_cm is per frame)\n",
    "speed_cm_s = distance_cm * 30  # Convert cm/frame to cm/s\n",
    "\n",
    "# Calculate cumulative distance\n",
    "cumulative_distance_cm = distance_cm.cumsum()\n",
    "\n",
    "# Create a summary dataframe\n",
    "summary_df = pd.DataFrame({\n",
    "    'Time_seconds': time_seconds,\n",
    "    'Distance_cm': distance_cm,\n",
    "    'Speed_cm_s': speed_cm_s,\n",
    "})\n",
    "\n",
    "print(\"Data Summary:\")\n",
    "print(summary_df.head())\n",
    "print(\"\\nNote: All distances in centimeters, time in seconds, speed in cm/s\")"
   ]
  },
  {
   "cell_type": "markdown",
   "id": "bdc32ebd",
   "metadata": {},
   "source": [
    "### Plot and Export"
   ]
  },
  {
   "cell_type": "code",
   "execution_count": 25,
   "id": "df0ab2ee",
   "metadata": {},
   "outputs": [
    {
     "data": {
      "image/png": "[encoded data removed]",
      "text/plain": [
       "<Figure size 600x250 with 1 Axes>"
      ]
     },
     "metadata": {},
     "output_type": "display_data"
    },
    {
     "name": "stdout",
     "output_type": "stream",
     "text": [
      "\n",
      "Total distance traveled: 275949.24 cm\n",
      "Average distance per frame: 0.2206 cm\n",
      "\n",
      "Files saved in: D:\\Temp\\DrugIntake behavior\\THC\\male\n",
      "- C16_THC_0_1mpk_LocationOutput_TimeOverSpeed.svg\n",
      "- C16_THC_0_1mpk_LocationOutput_TimeOverSpeed.csv\n"
     ]
    }
   ],
   "source": [
    "# Time-Speed Plot (with Savitzky-Golay filter)\n",
    "fig, ax = plt.subplots(figsize=(6, 2.5))  # Width reduced by 50%, height by 40%\n",
    "\n",
    "# Apply Savitzky-Golay filter\n",
    "data_length = len(speed_cm_s)\n",
    "window_length = min(31, data_length)  # About 1 second, ensuring it's less than data length\n",
    "if window_length % 2 == 0:  # Make sure window length is odd\n",
    "    window_length -= 1\n",
    "polyorder = 2  # Lower polynomial order for smoother result\n",
    "smooth_speed = savgol_filter(speed_cm_s, window_length=window_length, polyorder=polyorder)\n",
    "\n",
    "# Plot smoothed speed\n",
    "ax.plot(time_seconds, smooth_speed, 'r-', linewidth=2, label='Smoothed Speed')\n",
    "\n",
    "# Remove top and right spines\n",
    "ax.spines['top'].set_visible(False)\n",
    "ax.spines['right'].set_visible(False)\n",
    "\n",
    "ax.set_title('Speed Over Time', pad=20, fontsize=14)\n",
    "ax.set_xlabel('Time (s)', fontsize=12)\n",
    "ax.set_ylabel('Speed (cm/s)', fontsize=12)\n",
    "ax.legend(fontsize=10)\n",
    "ax.grid(False)  # Remove grid\n",
    "\n",
    "plt.tight_layout()\n",
    "\n",
    "# Get the directory of the input file\n",
    "input_dir = os.path.dirname(Filename)\n",
    "base_name = os.path.splitext(os.path.basename(Filename))[0]\n",
    "\n",
    "# Create full paths for output files\n",
    "speed_plot_filename = os.path.join(input_dir, f\"{base_name}_TimeOverSpeed.svg\")\n",
    "speed_data_filename = os.path.join(input_dir, f\"{base_name}_TimeOverSpeed.csv\")\n",
    "\n",
    "# Save the plot\n",
    "plt.savefig(speed_plot_filename, format='svg', bbox_inches='tight', dpi=300)\n",
    "plt.show()\n",
    "\n",
    "# Calculate average distance per frame\n",
    "avg_distance = distance_cm.mean()\n",
    "\n",
    "# Print distance statistics\n",
    "print(f\"\\nTotal distance traveled: {cumulative_distance_cm.iloc[-1]:.2f} cm\")\n",
    "print(f\"Average distance per frame: {avg_distance:.4f} cm\")\n",
    "\n",
    "# Create and save a CSV file with time and smoothed speed data\n",
    "time_speed_df = pd.DataFrame({\n",
    "    'Time(s)': time_seconds,\n",
    "    'Speed(cm/s)': smooth_speed\n",
    "})\n",
    "\n",
    "# Save to CSV in the same directory as the input file\n",
    "time_speed_df.to_csv(speed_data_filename, index=False)\n",
    "print(f\"\\nFiles saved in: {input_dir}\")\n",
    "print(f\"- {os.path.basename(speed_plot_filename)}\")\n",
    "print(f\"- {os.path.basename(speed_data_filename)}\")"
   ]
  }
 ],
 "metadata": {
  "kernelspec": {
   "display_name": "PLOT",
   "language": "python",
   "name": "python3"
  },
  "language_info": {
   "codemirror_mode": {
    "name": "ipython",
    "version": 3
   },
   "file_extension": ".py",
   "mimetype": "text/x-python",
   "name": "python",
   "nbconvert_exporter": "python",
   "pygments_lexer": "ipython3",
   "version": "3.12.7"
  }
 },
 "nbformat": 4,
 "nbformat_minor": 5
}
