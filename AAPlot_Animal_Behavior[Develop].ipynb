{
 "cells": [
  {
   "cell_type": "markdown",
   "id": "e2c744f3",
   "metadata": {},
   "source": [
    "# 【AAPlot for Animal Behavior (Pretreat)】\n",
    "## Extract speed and trajectory of EzTrack exported .csv file\n",
    "\n",
    "Run under `PLOT` environment\n",
    "    \n",
    "The `PLOT` enviorment：\n",
    "- Python3.12.7\n",
    "- pandas\n",
    "- numpy\n",
    "- matplotlib\n",
    "- seaborn\n",
    "- ipykernel\n",
    "\n",
    "*Warning*\n",
    "\n",
    "*! Make sure you have installed `Anaconda`，and added to PATH（refering to internet）*\n",
    "\n",
    "*! Make sure you have already confiured the `PLOT` environment, if not, run this command: `conda env create -n PLOT python=3.12.7 pandas numpy matplotlib seaborn ipykernel` (If you are using ARM64 CPU, use Python3.13.3 intead，add `conda-forge` at the end of command)*\n",
    "\n",
    "*Apply `PLOT` in VScode ：Select in the Kernel*\n",
    "\n",
    "*Apply `PLOT` in terminal：`conda activate PLOT`*"
   ]
  },
  {
   "cell_type": "markdown",
   "id": "53d03dad",
   "metadata": {},
   "source": [
    "### Step1. Data Input"
   ]
  },
  {
   "cell_type": "code",
   "execution_count": 19,
   "id": "b1d3cfb1",
   "metadata": {},
   "outputs": [
    {
     "name": "stdout",
     "output_type": "stream",
     "text": [
      "Data Summary:\n",
      "   Time_seconds       X_cm       Y_cm  Distance_cm  Speed_cm_s\n",
      "0      0.000000  49.788406  46.904752     0.000000    0.000000\n",
      "1      0.033333  34.734721  52.544160    16.075334  482.260013\n",
      "2      0.066667  60.222828  36.573165    30.078502  902.355046\n",
      "3      0.100000  60.353209  35.826073     0.758384   22.751508\n",
      "4      0.133333  60.419533  34.221993     1.605450   48.163506\n",
      "\n",
      "Note: All distances in centimeters, time in seconds, speed in cm/s\n"
     ]
    }
   ],
   "source": [
    "import pandas as pd\n",
    "import matplotlib.pyplot as plt\n",
    "import seaborn as sns\n",
    "import numpy as np\n",
    "\n",
    "Filename = r'Z:\\Ruyi_RawData\\Fiber\\eCB\\DrugIntake\\Behavior\\NAcSh\\Saline\\02 Processed\\C15_LocationOutput.csv'\n",
    "# Filename = 'Test.csv' # for Linux/MacOS\n",
    "\n",
    "# Read the CSV file\n",
    "df = pd.read_csv(Filename)\n",
    "\n",
    "# Create a conversion factor from pixels to cm using the first row's data\n",
    "px_distance = df.loc[1, 'Distance_px']  # Get the distance in pixels\n",
    "cm_distance = df.loc[1, 'Distance_cm']  # Get the distance in cm\n",
    "conversion_factor = cm_distance / px_distance  # Calculate conversion factor (cm/px)\n",
    "\n",
    "# Extract data and convert to appropriate units\n",
    "frame_numbers = df['Frame']\n",
    "time_seconds = frame_numbers / 30  # Convert frames to seconds (30Hz)\n",
    "x_trajectory_cm = df['X'] * conversion_factor  # Convert X to cm\n",
    "y_trajectory_cm = df['Y'] * conversion_factor  # Convert Y to cm\n",
    "distance_cm = df['Distance_cm']  # Already in cm\n",
    "\n",
    "# Calculate speed in cm/s (multiply by frame rate since distance_cm is per frame)\n",
    "speed_cm_s = distance_cm * 30  # Convert cm/frame to cm/s\n",
    "\n",
    "# Calculate cumulative distance\n",
    "cumulative_distance_cm = distance_cm.cumsum()\n",
    "\n",
    "# Create a summary dataframe with only cm data\n",
    "summary_df = pd.DataFrame({\n",
    "    'Time_seconds': time_seconds,\n",
    "    'X_cm': x_trajectory_cm,\n",
    "    'Y_cm': y_trajectory_cm,\n",
    "    'Distance_cm': distance_cm,\n",
    "    'Speed_cm_s': speed_cm_s,\n",
    "})\n",
    "\n",
    "print(\"Data Summary:\")\n",
    "print(summary_df.head())\n",
    "print(\"\\nNote: All distances in centimeters, time in seconds, speed in cm/s\")"
   ]
  },
  {
   "cell_type": "markdown",
   "id": "fea9d365",
   "metadata": {},
   "source": [
    "### 2. Plot trajectory and Time-Speed"
   ]
  },
  {
   "cell_type": "code",
   "execution_count": 20,
   "id": "df0ab2ee",
   "metadata": {},
   "outputs": [
    {
     "name": "stdout",
     "output_type": "stream",
     "text": [
      "Total distance traveled: 180036.71 cm\n",
      "Average distance per frame: 0.3351 cm\n",
      "\n",
      "Files saved:\n",
      "- Z:\\Ruyi_RawData\\Fiber\\eCB\\DrugIntake\\Behavior\\NAcSh\\Saline\\02 Processed\\C15_LocationOutput_Trajectory.svg\n",
      "- Z:\\Ruyi_RawData\\Fiber\\eCB\\DrugIntake\\Behavior\\NAcSh\\Saline\\02 Processed\\C15_LocationOutput_TimeOverSpeed.svg\n",
      "- Z:\\Ruyi_RawData\\Fiber\\eCB\\DrugIntake\\Behavior\\NAcSh\\Saline\\02 Processed\\C15_LocationOutput_TimeOverSpeed.csv\n",
      "\n",
      "Files saved:\n",
      "- Z:\\Ruyi_RawData\\Fiber\\eCB\\DrugIntake\\Behavior\\NAcSh\\Saline\\02 Processed\\C15_LocationOutput_Trajectory.svg\n",
      "- Z:\\Ruyi_RawData\\Fiber\\eCB\\DrugIntake\\Behavior\\NAcSh\\Saline\\02 Processed\\C15_LocationOutput_TimeOverSpeed.svg\n",
      "- Z:\\Ruyi_RawData\\Fiber\\eCB\\DrugIntake\\Behavior\\NAcSh\\Saline\\02 Processed\\C15_LocationOutput_TimeOverSpeed.csv\n"
     ]
    }
   ],
   "source": [
    "# Get input filename without extension\n",
    "base_name = os.path.splitext(Filename)[0]\n",
    "\n",
    "# 1. Trajectory Plot (simplified version)\n",
    "fig, ax = plt.subplots(figsize=(4.5, 4.5))  # Reduced by 40% from 7.5x7.5\n",
    "ax.plot(x_trajectory_cm, y_trajectory_cm, 'r-', linewidth=1.5)  # Red trajectory line\n",
    "\n",
    "# Remove top and right spines\n",
    "ax.spines['top'].set_visible(False)\n",
    "ax.spines['right'].set_visible(False)\n",
    "\n",
    "ax.set_xlabel('X Position (cm)', fontsize=12)\n",
    "ax.set_ylabel('Y Position (cm)', fontsize=12)\n",
    "ax.axis('equal')  # Make sure x and y scales are equal\n",
    "ax.grid(False)  # Remove grid\n",
    "\n",
    "plt.tight_layout()\n",
    "trajectory_filename = f\"{base_name}_Trajectory.svg\"\n",
    "plt.savefig(trajectory_filename, format='svg', bbox_inches='tight', dpi=300)\n",
    "plt.close()  # Close the figure to free memory\n",
    "\n",
    "# 2. Time-Speed Plot (with Savitzky-Golay filter)\n",
    "fig, ax = plt.subplots(figsize=(6, 2.5))  # Width reduced by 50%, height by 40%\n",
    "\n",
    "# Apply Savitzky-Golay filter\n",
    "# Adjust window length based on data size\n",
    "from scipy.signal import savgol_filter\n",
    "data_length = len(speed_cm_s)\n",
    "window_length = min(31, data_length)  # About 1 second, ensuring it's less than data length\n",
    "if window_length % 2 == 0:  # Make window length is odd\n",
    "    window_length -= 1\n",
    "polyorder = 2  # Lower polynomial order for smoother result\n",
    "smooth_speed = savgol_filter(speed_cm_s, window_length=window_length, polyorder=polyorder)\n",
    "\n",
    "# Plot smoothed speed\n",
    "ax.plot(time_seconds, smooth_speed, 'r-', linewidth=2, label='Smoothed Speed')\n",
    "\n",
    "# Remove top and right spines\n",
    "ax.spines['top'].set_visible(False)\n",
    "ax.spines['right'].set_visible(False)\n",
    "\n",
    "ax.set_xlabel('Time (s)', fontsize=12)\n",
    "ax.set_ylabel('Speed (cm/s)', fontsize=12)\n",
    "ax.legend(fontsize=10)\n",
    "ax.grid(False)  # Remove grid\n",
    "\n",
    "plt.tight_layout()\n",
    "speed_plot_filename = f\"{base_name}_TimeOverSpeed.svg\"\n",
    "plt.savefig(speed_plot_filename, format='svg', bbox_inches='tight', dpi=300)\n",
    "plt.close()  # Close the figure to free memory\n",
    "\n",
    "# Calculate average distance per frame\n",
    "avg_distance = distance_cm.mean()\n",
    "\n",
    "# Print distance statistics\n",
    "print(f\"Total distance traveled: {cumulative_distance_cm.iloc[-1]:.2f} cm\")\n",
    "print(f\"Average distance per frame: {avg_distance:.4f} cm\")\n",
    "\n",
    "# Create and save a CSV file with time and smoothed speed data\n",
    "time_speed_df = pd.DataFrame({\n",
    "    'Time(s)': time_seconds,\n",
    "    'Speed(cm/s)': smooth_speed\n",
    "})\n",
    "\n",
    "# Save to CSV with input filename\n",
    "speed_data_filename = f\"{base_name}_TimeOverSpeed.csv\"\n",
    "time_speed_df.to_csv(speed_data_filename, index=False)\n",
    "print(f\"\\nFiles saved:\")\n",
    "print(f\"- {trajectory_filename}\")\n",
    "print(f\"- {speed_plot_filename}\")\n",
    "print(f\"- {speed_data_filename}\")"
   ]
  },
  {
   "cell_type": "markdown",
   "id": "40e790dc",
   "metadata": {},
   "source": [
    "### 3. CSV file output"
   ]
  }
 ],
 "metadata": {
  "kernelspec": {
   "display_name": "PLOT",
   "language": "python",
   "name": "python3"
  },
  "language_info": {
   "codemirror_mode": {
    "name": "ipython",
    "version": 3
   },
   "file_extension": ".py",
   "mimetype": "text/x-python",
   "name": "python",
   "nbconvert_exporter": "python",
   "pygments_lexer": "ipython3",
   "version": "3.12.7"
  }
 },
 "nbformat": 4,
 "nbformat_minor": 5
}
